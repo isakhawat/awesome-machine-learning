{
  "nbformat": 4,
  "nbformat_minor": 0,
  "metadata": {
    "kernelspec": {
      "display_name": "Python 3",
      "language": "python",
      "name": "python3"
    },
    "language_info": {
      "codemirror_mode": {
        "name": "ipython",
        "version": 3
      },
      "file_extension": ".py",
      "mimetype": "text/x-python",
      "name": "python",
      "nbconvert_exporter": "python",
      "pygments_lexer": "ipython3",
      "version": "3.7.1"
    },
    "colab": {
      "name": "data crowling.ipynb",
      "provenance": [],
      "collapsed_sections": [],
      "include_colab_link": true
    }
  },
  "cells": [
    {
      "cell_type": "markdown",
      "metadata": {
        "id": "view-in-github",
        "colab_type": "text"
      },
      "source": [
        "<a href=\"https://colab.research.google.com/github/isakhawat/awesome-machine-learning/blob/master/data_crowling.ipynb\" target=\"_parent\"><img src=\"https://colab.research.google.com/assets/colab-badge.svg\" alt=\"Open In Colab\"/></a>"
      ]
    },
    {
      "cell_type": "markdown",
      "metadata": {
        "id": "jG1GdEQrr3hD",
        "colab_type": "text"
      },
      "source": [
        "source: https://www.youtube.com/watch?v=XQgXKtPSzUI"
      ]
    },
    {
      "cell_type": "code",
      "metadata": {
        "id": "VeMq7Or7qNVq",
        "colab_type": "code",
        "colab": {}
      },
      "source": [
        "import bs4\n"
      ],
      "execution_count": 0,
      "outputs": []
    },
    {
      "cell_type": "code",
      "metadata": {
        "id": "eeNjx_PLqNWB",
        "colab_type": "code",
        "colab": {}
      },
      "source": [
        "from bs4 import BeautifulSoup as soup  # HTML data structure\n",
        "from urllib.request import urlopen as uReq  # Web client\n"
      ],
      "execution_count": 0,
      "outputs": []
    },
    {
      "cell_type": "code",
      "metadata": {
        "id": "ycMvjg2iqNWK",
        "colab_type": "code",
        "colab": {}
      },
      "source": [
        "# URl to web scrap from.\n",
        "# in this example we web scrap graphics cards from Newegg.com\n",
        "page_url = \"https://www.newegg.com/p/pl?d=GTX&N=-1&IsNodeId=1&bop=And&Page=1&PageSize=36&order=BESTMATCH\"\n"
      ],
      "execution_count": 0,
      "outputs": []
    },
    {
      "cell_type": "code",
      "metadata": {
        "id": "iNqxvtb6qNWS",
        "colab_type": "code",
        "colab": {}
      },
      "source": [
        "# opens the connection and downloads html page from url\n",
        "uClient = uReq(page_url)\n"
      ],
      "execution_count": 0,
      "outputs": []
    },
    {
      "cell_type": "code",
      "metadata": {
        "id": "h9AfPlV9qNWf",
        "colab_type": "code",
        "colab": {}
      },
      "source": [
        "#page_html = uClient.read()"
      ],
      "execution_count": 0,
      "outputs": []
    },
    {
      "cell_type": "code",
      "metadata": {
        "id": "inkI_-0cqNWu",
        "colab_type": "code",
        "colab": {}
      },
      "source": [
        "# parses html into a soup data structure to traverse html\n",
        "# as if it were a json data type.\n",
        "page_soup = soup(uClient.read(), \"html.parser\")\n",
        "uClient.close()"
      ],
      "execution_count": 0,
      "outputs": []
    },
    {
      "cell_type": "code",
      "metadata": {
        "id": "Ya3HuI9mqNW_",
        "colab_type": "code",
        "colab": {}
      },
      "source": [
        "# finds each product from the store page\n",
        " containers = page_soup.findAll(\"div\", {\"class\":\"item-container\"})"
      ],
      "execution_count": 0,
      "outputs": []
    },
    {
      "cell_type": "code",
      "metadata": {
        "id": "4IP2x_UFqNXQ",
        "colab_type": "code",
        "colab": {}
      },
      "source": [
        "# name the output file to write to local disk\n",
        "out_filename = \"graphics_cards.csv\"\n"
      ],
      "execution_count": 0,
      "outputs": []
    },
    {
      "cell_type": "code",
      "metadata": {
        "id": "xjvtDoLTqNXe",
        "colab_type": "code",
        "colab": {}
      },
      "source": [
        "from bs4 import BeautifulSoup as soup  # HTML data structure\n",
        "from urllib.request import urlopen as uReq  # Web client\n",
        "\n",
        "# URl to web scrap from.\n",
        "# in this example we web scrap graphics cards from Newegg.com\n",
        "page_url = \"http://www.newegg.com/Product/ProductList.aspx?Submit=ENE&N=-1&IsNodeId=1&Description=GTX&bop=And&Page=1&PageSize=36&order=BESTMATCH\"\n",
        "\n",
        "# opens the connection and downloads html page from url\n",
        "uClient = uReq(page_url)\n",
        "\n",
        "# parses html into a soup data structure to traverse html\n",
        "# as if it were a json data type.\n",
        "page_soup = soup(uClient.read(), \"html.parser\")\n",
        "uClient.close()\n",
        "\n",
        "# finds each product from the store page\n",
        "containers = page_soup.findAll(\"div\", {\"class\": \"item-container\"})\n",
        "\n",
        "# name the output file to write to local disk\n",
        "out_filename = \"graphics_cards.csv\"\n",
        "# header of csv file to be written\n",
        "headers = \"brand,product_name,shipping \\n\"\n",
        "\n",
        "# opens file, and writes headers\n",
        "f = open(out_filename, \"w\")\n",
        "f.write(headers)\n",
        "\n",
        "# loops over each product and grabs attributes about\n",
        "# each product\n",
        "for container in containers:\n",
        "    # Finds all link tags \"a\" from within the first div.\n",
        "    make_rating_sp = container.div.select(\"a\")\n",
        "\n",
        "    # Grabs the title from the image title attribute\n",
        "    # Then does proper casing using .title()\n",
        "    brand = make_rating_sp[0].img[\"title\"].title()\n",
        "\n",
        "    # Grabs the text within the second \"(a)\" tag from within\n",
        "    # the list of queries.\n",
        "    product_name = container.div.select(\"a\")[2].text\n",
        "\n",
        "    # Grabs the product shipping information by searching\n",
        "    # all lists with the class \"price-ship\".\n",
        "    # Then cleans the text of white space with strip()\n",
        "    # Cleans the strip of \"Shipping $\" if it exists to just get number\n",
        "    shipping = container.findAll(\"li\", {\"class\": \"price-ship\"})[0].text.strip().replace(\"$\", \"\").replace(\" Shipping\", \"\")\n",
        "\n",
        "    # prints the dataset to console\n",
        "    print(\"brand: \" + brand + \"\\n\")\n",
        "    print(\"product_name: \" + product_name + \"\\n\")\n",
        "    print(\"shipping: \" + shipping + \"\\n\")\n",
        "\n",
        "    # writes the dataset to file\n",
        "    f.write(brand + \", \" + product_name.replace(\",\", \"|\") + \", \" + shipping + \"\\n\")\n",
        "\n",
        "f.close()  # Close the file\n",
        "---End of code---\n"
      ],
      "execution_count": 0,
      "outputs": []
    },
    {
      "cell_type": "code",
      "metadata": {
        "id": "o_nkAzUXqNXl",
        "colab_type": "code",
        "colab": {}
      },
      "source": [
        "# header of csv file to be written\n",
        "headers = \"brand,product_name,shipping \\n\""
      ],
      "execution_count": 0,
      "outputs": []
    },
    {
      "cell_type": "code",
      "metadata": {
        "id": "L7hd8SdQtxQa",
        "colab_type": "code",
        "colab": {
          "base_uri": "https://localhost:8080/",
          "height": 34
        },
        "outputId": "3d91ef9a-6b9e-4d1d-d25c-c212ef2bbfd6"
      },
      "source": [
        "# opens file, and writes headers\n",
        "f = open(out_filename, \"w\")\n",
        "f.write(headers)"
      ],
      "execution_count": 12,
      "outputs": [
        {
          "output_type": "execute_result",
          "data": {
            "text/plain": [
              "29"
            ]
          },
          "metadata": {
            "tags": []
          },
          "execution_count": 12
        }
      ]
    },
    {
      "cell_type": "code",
      "metadata": {
        "id": "wCCWCmPFtyFT",
        "colab_type": "code",
        "colab": {}
      },
      "source": [
        "# loops over each product and grabs attributes about\n",
        "# each product\n",
        "for container in containers:\n",
        "    # Finds all link tags \"a\" from within the first div.\n",
        "    make_rating_sp = container.div.select(\"a\")\n",
        "\n",
        "    # Grabs the title from the image title attribute\n",
        "    # Then does proper casing using .title()\n",
        "    brand = make_rating_sp[0].img[\"title\"].title()\n",
        "\n",
        "    # Grabs the text within the second \"(a)\" tag from within\n",
        "    # the list of queries.\n",
        "    product_name = container.div.select(\"a\")[2].text\n",
        "\n",
        "    # Grabs the product shipping information by searching\n",
        "    # all lists with the class \"price-ship\".\n",
        "    # Then cleans the text of white space with strip()\n",
        "    # Cleans the strip of \"Shipping $\" if it exists to just get number\n",
        "    shipping = container.findAll(\"li\", {\"class\": \"price-ship\"})[0].text.strip().replace(\"$\", \"\").replace(\" Shipping\", \"\")\n",
        "    \n",
        "     # prints the dataset to console\n",
        "    print(\"brand: \"+ brand +\"\\n\") \n",
        "    print(\"product_name: \"+ product_name +\"\\n\") \n",
        "    print(\"shipping: \"+ shipping +\"\\n\")  \n",
        "    \n",
        "# writes the dataset to file\n",
        "    f.write(brand + \", \" + product_name.replace(\",\", \"|\") + \", \" + shipping + \"\\n\")\n",
        "\n",
        "\n",
        "   \n",
        "    \n",
        "    "
      ],
      "execution_count": 0,
      "outputs": []
    },
    {
      "cell_type": "code",
      "metadata": {
        "id": "BIdgWJxfubL7",
        "colab_type": "code",
        "colab": {}
      },
      "source": [
        ""
      ],
      "execution_count": 0,
      "outputs": []
    },
    {
      "cell_type": "code",
      "metadata": {
        "id": "etU9yxyyuojU",
        "colab_type": "code",
        "colab": {}
      },
      "source": [
        "    \n"
      ],
      "execution_count": 0,
      "outputs": []
    },
    {
      "cell_type": "code",
      "metadata": {
        "id": "pTmSJ7e7txNH",
        "colab_type": "code",
        "colab": {}
      },
      "source": [
        "f.close()  # Close the file"
      ],
      "execution_count": 0,
      "outputs": []
    },
    {
      "cell_type": "code",
      "metadata": {
        "id": "oDijpR_xtxJR",
        "colab_type": "code",
        "colab": {}
      },
      "source": [
        ""
      ],
      "execution_count": 0,
      "outputs": []
    },
    {
      "cell_type": "code",
      "metadata": {
        "id": "YSHAkpDItxFF",
        "colab_type": "code",
        "colab": {}
      },
      "source": [
        ""
      ],
      "execution_count": 0,
      "outputs": []
    }
  ]
}